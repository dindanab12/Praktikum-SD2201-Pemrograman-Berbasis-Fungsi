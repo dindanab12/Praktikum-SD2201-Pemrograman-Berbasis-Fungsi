{
  "nbformat": 4,
  "nbformat_minor": 0,
  "metadata": {
    "colab": {
      "provenance": []
    },
    "kernelspec": {
      "name": "python3",
      "display_name": "Python 3"
    },
    "language_info": {
      "name": "python"
    }
  },
  "cells": [
    {
      "cell_type": "code",
      "execution_count": 4,
      "metadata": {
        "colab": {
          "base_uri": "https://localhost:8080/"
        },
        "id": "EeFD31ThRkDL",
        "outputId": "c219638e-1380-4dc0-9a40-53c8def06380"
      },
      "outputs": [
        {
          "output_type": "stream",
          "name": "stdout",
          "text": [
            "\n",
            "Pilih operasi yang ingin Anda lakukan:\n",
            "1. Tambah Produk\n",
            "2. Edit Produk\n",
            "3. Keluar\n",
            "Masukkan pilihan (1/2/3): 2\n",
            "Apakah Anda admin? (ya/tidak): ya\n",
            "Masukkan ID produk yang akan diubah: 245\n",
            "Masukkan nama baru produk: Gula\n",
            "Masukkan harga baru produk: 15000\n",
            "Apakah Anda admin? (ya/tidak): ya\n",
            "Produk dengan ID 245 berhasil diubah menjadi Gula dengan harga 15000.0.\n",
            "\n",
            "Pilih operasi yang ingin Anda lakukan:\n",
            "1. Tambah Produk\n",
            "2. Edit Produk\n",
            "3. Keluar\n",
            "Masukkan pilihan (1/2/3): 1\n",
            "Apakah Anda admin? (ya/tidak): ya\n",
            "Masukkan nama produk: Garam\n",
            "Masukkan harga produk: 7000\n",
            "Apakah Anda admin? (ya/tidak): ya\n",
            "Produk Garam berhasil ditambahkan dengan harga 7000.0.\n",
            "\n",
            "Pilih operasi yang ingin Anda lakukan:\n",
            "1. Tambah Produk\n",
            "2. Edit Produk\n",
            "3. Keluar\n",
            "Masukkan pilihan (1/2/3): 1\n",
            "Apakah Anda admin? (ya/tidak): tidak\n",
            "Akses ditolak. Anda bukan admin toko.\n",
            "\n",
            "Pilih operasi yang ingin Anda lakukan:\n",
            "1. Tambah Produk\n",
            "2. Edit Produk\n",
            "3. Keluar\n",
            "Masukkan pilihan (1/2/3): 3\n",
            "Terima kasih telah menggunakan program kami.\n"
          ]
        }
      ],
      "source": [
        "# Decorator untuk memeriksa apakah pengguna adalah admin\n",
        "def require_admin(func):\n",
        "    def wrapper(*args, **kwargs):\n",
        "        if is_user_admin():\n",
        "            return func(*args, **kwargs)\n",
        "        else:\n",
        "            return \"Akses ditolak. Anda bukan admin toko.\"\n",
        "    return wrapper\n",
        "\n",
        "# Fungsi untuk menambahkan produk\n",
        "@require_admin\n",
        "def tambah_produk(nama_produk, harga):\n",
        "    # Logika untuk menambahkan produk\n",
        "    return f\"Produk {nama_produk} berhasil ditambahkan dengan harga {harga}.\"\n",
        "\n",
        "# Fungsi untuk mengedit produk\n",
        "@require_admin\n",
        "def edit_produk(id_produk, nama_baru, harga_baru):\n",
        "    # Logika untuk mengedit produk\n",
        "    return f\"Produk dengan ID {id_produk} berhasil diubah menjadi {nama_baru} dengan harga {harga_baru}.\"\n",
        "\n",
        "# Fungsi untuk memeriksa apakah pengguna adalah admin\n",
        "def is_user_admin():\n",
        "    return True if input(\"Apakah Anda admin? (ya/tidak): \").lower() == 'ya' else False\n",
        "\n",
        "# Interaksi dengan pengguna\n",
        "while True:\n",
        "    print(\"\\nPilih operasi yang ingin Anda lakukan:\")\n",
        "    print(\"1. Tambah Produk\")\n",
        "    print(\"2. Edit Produk\")\n",
        "    print(\"3. Keluar\")\n",
        "\n",
        "    pilihan = input(\"Masukkan pilihan (1/2/3): \")\n",
        "\n",
        "    if pilihan == '1':\n",
        "        if is_user_admin():\n",
        "            nama_produk = input(\"Masukkan nama produk: \")\n",
        "            harga = float(input(\"Masukkan harga produk: \"))\n",
        "            print(tambah_produk(nama_produk, harga))\n",
        "        else:\n",
        "            print(\"Akses ditolak. Anda bukan admin toko.\")\n",
        "    elif pilihan == '2':\n",
        "        if is_user_admin():\n",
        "            id_produk = int(input(\"Masukkan ID produk yang akan diubah: \"))\n",
        "            nama_baru = input(\"Masukkan nama baru produk: \")\n",
        "            harga_baru = float(input(\"Masukkan harga baru produk: \"))\n",
        "            print(edit_produk(id_produk, nama_baru, harga_baru))\n",
        "        else:\n",
        "            print(\"Akses ditolak. Anda bukan admin toko.\")\n",
        "    elif pilihan == '3':\n",
        "        print(\"Terima kasih telah menggunakan program kami.\")\n",
        "        break\n",
        "    else:\n",
        "        print(\"Pilihan tidak valid. Silakan masukkan pilihan yang benar (1/2/3).\")"
      ]
    }
  ]
}