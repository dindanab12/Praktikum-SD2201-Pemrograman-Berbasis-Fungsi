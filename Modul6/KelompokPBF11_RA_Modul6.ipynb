{
  "nbformat": 4,
  "nbformat_minor": 0,
  "metadata": {
    "colab": {
      "provenance": []
    },
    "kernelspec": {
      "name": "python3",
      "display_name": "Python 3"
    },
    "language_info": {
      "name": "python"
    }
  },
  "cells": [
    {
      "cell_type": "code",
      "execution_count": 2,
      "metadata": {
        "id": "PxkT6Lu6VbHE",
        "outputId": "ee4fc69c-0ec1-4afe-fcdb-a9e79fcc566a",
        "colab": {
          "base_uri": "https://localhost:8080/"
        }
      },
      "outputs": [
        {
          "output_type": "stream",
          "name": "stdout",
          "text": [
            "Mahasiswa yang lulus:\n",
            "John: 77.0 (Indeks: B)\n",
            "Jane: 87.0 (Indeks: A)\n",
            "Doe: 67.0 (Indeks: C)\n",
            "Smith: 82.0 (Indeks: B)\n",
            "Diana: 92.0 (Indeks: A)\n",
            "\n",
            "Nilai akhir dan indeks semua mahasiswa:\n",
            "Nilai: 77.0 (Indeks: B)\n",
            "Nilai: 87.0 (Indeks: A)\n",
            "Nilai: 67.0 (Indeks: C)\n",
            "Nilai: 82.0 (Indeks: B)\n",
            "Nilai: 92.0 (Indeks: A)\n"
          ]
        }
      ],
      "source": [
        "# Fungsi untuk menghitung nilai akhir berdasarkan bobot\n",
        "def hitung_nilai_akhir(nilai_tugas, nilai_ujian, bobot_tugas=0.4, bobot_ujian=0.6):\n",
        "    return (nilai_tugas * bobot_tugas) + (nilai_ujian * bobot_ujian)\n",
        "\n",
        "# Fungsi untuk menentukan indeks berdasarkan nilai akhir\n",
        "def tentukan_indeks(nilai_akhir):\n",
        "    if nilai_akhir >= 85:\n",
        "        return 'A'\n",
        "    elif nilai_akhir >= 70:\n",
        "        return 'B'\n",
        "    elif nilai_akhir >= 60:\n",
        "        return 'C'\n",
        "    else:\n",
        "        return 'D'\n",
        "\n",
        "# Data mahasiswa beserta nilai tugas dan ujian\n",
        "data_mahasiswa = [\n",
        "    {\"nama\": \"John\", \"nilai_tugas\": 80, \"nilai_ujian\": 75},\n",
        "    {\"nama\": \"Jane\", \"nilai_tugas\": 90, \"nilai_ujian\": 85},\n",
        "    {\"nama\": \"Doe\", \"nilai_tugas\": 70, \"nilai_ujian\": 65},\n",
        "    {\"nama\": \"Smith\", \"nilai_tugas\": 85, \"nilai_ujian\": 80},\n",
        "    {\"nama\": \"Diana\", \"nilai_tugas\": 95, \"nilai_ujian\": 90}\n",
        "]\n",
        "\n",
        "# Menggunakan higher order function (filter) untuk memfilter mahasiswa yang lulus\n",
        "mahasiswa_lulus = list(filter(lambda mhs: hitung_nilai_akhir(mhs['nilai_tugas'], mhs['nilai_ujian']) >= 60, data_mahasiswa))\n",
        "\n",
        "# Menggunakan higher order function (map) untuk menghitung nilai akhir dan indeks semua mahasiswa\n",
        "nilai_indeks_mahasiswa = list(map(lambda mhs: (hitung_nilai_akhir(mhs['nilai_tugas'], mhs['nilai_ujian']), tentukan_indeks(hitung_nilai_akhir(mhs['nilai_tugas'], mhs['nilai_ujian']))), data_mahasiswa))\n",
        "\n",
        "# Menampilkan hasil\n",
        "print(\"Mahasiswa yang lulus:\")\n",
        "for mhs in mahasiswa_lulus:\n",
        "    nilai_akhir = hitung_nilai_akhir(mhs['nilai_tugas'], mhs['nilai_ujian'])\n",
        "    indeks = tentukan_indeks(nilai_akhir)\n",
        "    print(f\"{mhs['nama']}: {nilai_akhir} (Indeks: {indeks})\")\n",
        "\n",
        "print(\"\\nNilai akhir dan indeks semua mahasiswa:\")\n",
        "for nilai, indeks in nilai_indeks_mahasiswa:\n",
        "    print(f\"Nilai: {nilai} (Indeks: {indeks})\")\n"
      ]
    }
  ]
}