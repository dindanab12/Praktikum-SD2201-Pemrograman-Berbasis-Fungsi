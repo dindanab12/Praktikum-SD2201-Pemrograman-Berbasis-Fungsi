{
  "nbformat": 4,
  "nbformat_minor": 0,
  "metadata": {
    "colab": {
      "provenance": []
    },
    "kernelspec": {
      "name": "python3",
      "display_name": "Python 3"
    },
    "language_info": {
      "name": "python"
    }
  },
  "cells": [
    {
      "cell_type": "code",
      "execution_count": null,
      "metadata": {
        "colab": {
          "base_uri": "https://localhost:8080/"
        },
        "id": "dcUI3npCewCU",
        "outputId": "96bc9aa8-5008-456e-9815-cc55be026209"
      },
      "outputs": [
        {
          "output_type": "stream",
          "name": "stdout",
          "text": [
            "Masukkan nama file (file.csv): andora.csv\n",
            "Panjang data: 25\n",
            "Hasil imputasi menggunakan mean: [0.07, 1, 1, 1, 0.0, 0.0, 0.02, 1, 0.03, 0.01, 0.09, 0.0, 0.01, 0.03, 0.01, 0.0, 5.28, 0.0, 0.09, 1, 0.04, 0.03, 0.01, 1, 1]\n",
            "Metode imputasi data terbaik menggunakan mean dengan MAE: 0.0\n"
          ]
        }
      ],
      "source": [
        "import pandas as pd\n",
        "import math\n",
        "from collections import Counter\n",
        "from sklearn.metrics import mean_absolute_error\n",
        "\n",
        "\n",
        "def isNaN(num):\n",
        "    return num != num\n",
        "\n",
        "def data_imputer(strategy='mean'):\n",
        "    def impute(data):\n",
        "        if strategy == 'mean':\n",
        "            mean_val = sum([x for x in data if not isNaN(x) ]) / len([x for x in data if not isNaN(x)])\n",
        "            return [x if not isNaN(x) else math.ceil(mean_val) for x in data]\n",
        "        elif strategy == 'median':\n",
        "            sorted_data = sorted(x for x in data if not isNaN(x))\n",
        "            median_val = sorted_data[len(sorted_data) // 2]\n",
        "            return [x if not isNaN(x) else math.ceil(median_val) for x in data]\n",
        "        elif strategy == 'mode':\n",
        "            mode_val = Counter(x for x in data if not isNaN(x)).most_common(1)[0][0]\n",
        "            return [x if not isNaN(x) else math.ceil(mode_val) for x in data]\n",
        "        else:\n",
        "            raise ValueError(\"Unsupported imputation strategy\")\n",
        "\n",
        "    return impute\n",
        "\n",
        "filename = input(\"Masukkan nama file (file.csv): \")\n",
        "data = pd.read_csv(filename)\n",
        "data= data[\"Import\"]\n",
        "# Contoh penggunaan closure\n",
        "# Imputasi menggunakan mean\n",
        "impute_mean = data_imputer('mean')\n",
        "imputed_data_mean = impute_mean(data)\n",
        "\n",
        "# Imputasi menggunakan median\n",
        "impute_median = data_imputer('median')\n",
        "imputed_data_median = impute_median(data)\n",
        "\n",
        "# Imputasi menggunakan modus\n",
        "impute_mode = data_imputer('mode')\n",
        "imputed_data_mode = impute_mode(data)\n",
        "# Proses pengolahan data setelah imputasi\n",
        "start_index = next((i for i, x in enumerate(data) if x is not None), None)\n",
        "imputed_length_mean = len(imputed_data_mean[start_index:])\n",
        "imputed_length_median = len(imputed_data_median[start_index:])\n",
        "imputed_length_mode = len(imputed_data_mode[start_index:])\n",
        "\n",
        "# Hitung MAE untuk setiap metode imputasi\n",
        "mae_mean = sum(abs(x - y) for x, y in zip(imputed_data_mean, imputed_data_mean)) / len(imputed_data_mean)\n",
        "mae_median = sum(abs(x - y) for x, y in zip(imputed_data_mean, imputed_data_median)) / len(imputed_data_mean)\n",
        "mae_mode = sum(abs(x - y) for x, y in zip(imputed_data_mean, imputed_data_mode)) / len(imputed_data_mean)\n",
        "\n",
        "\n",
        "# Pilih hasil imputasi dengan RMSE terkecil sebagai hasil terbaik\n",
        "hasil_imputasi_terbaik = ''\n",
        "if mae_mean <= mae_median and mae_mean <= mae_mode:\n",
        "    hasil_imputasi_terbaik = 'Mean'\n",
        "    print(\"Panjang data:\", imputed_length_mean)\n",
        "    print(\"Hasil imputasi menggunakan mean:\", imputed_data_mean[start_index:])\n",
        "    print(f\"Metode imputasi data terbaik menggunakan mean dengan MAE: {mae_mean}\")\n",
        "elif mae_median <= mae_mean and mae_median <= mae_mode:\n",
        "    hasil_imputasi_terbaik = 'Median'\n",
        "    print(\"Panjang data:\", imputed_length_median)\n",
        "    print(\"Hasil imputasi menggunakan median:\", imputed_data_median[start_index:])\n",
        "    print(f\"Metode imputasi data terbaik menggunakan median dengan MAE: {mae_median}\")\n",
        "else:\n",
        "    hasil_imputasi_terbaik = 'Modus'\n",
        "    print(\"Panjang data:\", imputed_length_mode)\n",
        "    print(\"Hasil imputasi menggunakan modus:\", imputed_data_mode[start_index:])\n",
        "    print(f\"Metode imputasi data terbaik menggunakan modus dengan MAE: {mae_mode}\")"
      ]
    }
  ]
}